{
 "cells": [
  {
   "cell_type": "code",
   "execution_count": 1,
   "metadata": {},
   "outputs": [
    {
     "name": "stdout",
     "output_type": "stream",
     "text": [
      "Environment: DEV\n"
     ]
    }
   ],
   "source": [
    "import sys\n",
    "sys.path.insert(0, \"/Users/hugofayolle/Desktop/Bourse/Bourse_test/\")\n",
    "from Model.codes import Codes\n",
    "from Model.constants import API_KEY, ENVIRONMENT, TEST_FOLDER, SAVE_FOLDER\n",
    "from Model.env import Env\n",
    "from Model.file import File\n",
    "from Model.functions import Function\n",
    "from Model.indicator import Indicator\n",
    "from Model.stock import Stock\n",
    "from Model.strategy import Strategy\n",
    "from functools import partial\n",
    "from itertools import product\n",
    "import datetime\n",
    "from Model.exploration import load_stocks, get_strategy, add_indicator, add_strategy, get_stock\n",
    "import itertools\n",
    "import quandl\n",
    "import dill as pickle\n",
    "import matplotlib.pyplot as plt\n",
    "import numpy as np\n",
    "import pandas as pd\n",
    "quandl.ApiConfig.api_key = API_KEY # mandatory to make api calls on quandl\n",
    "print(ENVIRONMENT)"
   ]
  },
  {
   "cell_type": "markdown",
   "metadata": {},
   "source": [
    "# Testing test base data"
   ]
  },
  {
   "cell_type": "code",
   "execution_count": 2,
   "metadata": {
    "collapsed": true
   },
   "outputs": [],
   "source": [
    "stocks = load_stocks()"
   ]
  },
  {
   "cell_type": "code",
   "execution_count": 3,
   "metadata": {
    "collapsed": true
   },
   "outputs": [],
   "source": [
    "def sma(df, window, column = 'CLOSE'):\n",
    "    return df[column].rolling(window = window).mean()"
   ]
  },
  {
   "cell_type": "code",
   "execution_count": 4,
   "metadata": {
    "collapsed": true
   },
   "outputs": [],
   "source": [
    "SMA = Function('SMA', sma)"
   ]
  },
  {
   "cell_type": "code",
   "execution_count": 5,
   "metadata": {},
   "outputs": [
    {
     "data": {
      "text/plain": [
       "Indicator : SMA150 (DEV)"
      ]
     },
     "execution_count": 5,
     "metadata": {},
     "output_type": "execute_result"
    }
   ],
   "source": [
    "Indicator('SMA80', partial(SMA.execute, window = 80))\n",
    "Indicator('SMA150', partial(SMA.execute, window = 150))"
   ]
  },
  {
   "cell_type": "code",
   "execution_count": 6,
   "metadata": {
    "collapsed": true
   },
   "outputs": [],
   "source": [
    "add_indicator('SMA80')\n",
    "add_indicator('SMA150')"
   ]
  },
  {
   "cell_type": "code",
   "execution_count": 7,
   "metadata": {
    "collapsed": true
   },
   "outputs": [],
   "source": [
    "stocks = load_stocks()"
   ]
  },
  {
   "cell_type": "code",
   "execution_count": 8,
   "metadata": {
    "collapsed": true
   },
   "outputs": [],
   "source": [
    "def buy(stock, row):\n",
    "    import numpy as np\n",
    "    date = None\n",
    "    price = None\n",
    "    status = None\n",
    "    if np.isnan(row.SMA80) or np.isnan(row.SMA150):\n",
    "        state = True\n",
    "    else:\n",
    "        state = row.SMA80 > row.SMA150\n",
    "        if state == True:\n",
    "            pos = stock.data.index.get_loc(row.Index)\n",
    "            if pos + 1 == len(stock.data):\n",
    "                price = None\n",
    "                status = 'awaiting buy'\n",
    "                date = row.Index\n",
    "            else:\n",
    "                next_row = stock.data.iloc[pos + 1]\n",
    "                price = next_row.OPEN\n",
    "                status = 'pending'\n",
    "                date = next_row.name\n",
    "    return {'state': state, 'date': date, 'price': price, 'status': status}\n",
    "\n",
    "def sell(stock, row, trade):\n",
    "    date = None\n",
    "    price = None\n",
    "    status = None\n",
    "    state = row.SMA80 < row.SMA150\n",
    "    if state == True:\n",
    "        pos = stock.data.index.get_loc(row.Index)\n",
    "        if pos + 1 == len(stock.data):\n",
    "            price = None\n",
    "            status = 'awaiting sell'\n",
    "            date = row.Index\n",
    "        else:\n",
    "            next_row = stock.data.iloc[pos + 1]\n",
    "            price = next_row.OPEN\n",
    "            status = 'closed'\n",
    "            date = next_row.name\n",
    "    return {'state': state, 'date': date, 'price': price, 'status': status}"
   ]
  },
  {
   "cell_type": "code",
   "execution_count": 12,
   "metadata": {},
   "outputs": [
    {
     "data": {
      "text/plain": [
       "Strategy : SMA80_SMA150 (DEV)"
      ]
     },
     "execution_count": 12,
     "metadata": {},
     "output_type": "execute_result"
    }
   ],
   "source": [
    "Strategy('SMA80_SMA150', buy, sell)"
   ]
  },
  {
   "cell_type": "code",
   "execution_count": 14,
   "metadata": {},
   "outputs": [],
   "source": [
    "add_strategy('SMA80_SMA150')"
   ]
  },
  {
   "cell_type": "markdown",
   "metadata": {},
   "source": [
    "---"
   ]
  },
  {
   "cell_type": "markdown",
   "metadata": {},
   "source": [
    "# Exploration"
   ]
  },
  {
   "cell_type": "code",
   "execution_count": 34,
   "metadata": {
    "collapsed": true
   },
   "outputs": [],
   "source": [
    "from crontab import CronTab"
   ]
  },
  {
   "cell_type": "code",
   "execution_count": 35,
   "metadata": {},
   "outputs": [],
   "source": [
    "cron = CronTab(user='hugofayolle')  "
   ]
  },
  {
   "cell_type": "code",
   "execution_count": 36,
   "metadata": {
    "collapsed": true
   },
   "outputs": [],
   "source": [
    "job = cron.new(command='python3 /Users/hugofayolle/Desktop/Bourse/Bourse_test/Script/dev.py') "
   ]
  },
  {
   "cell_type": "code",
   "execution_count": 37,
   "metadata": {},
   "outputs": [
    {
     "data": {
      "text/plain": [
       "<crontab.CronRange at 0x10ca4f080>"
      ]
     },
     "execution_count": 37,
     "metadata": {},
     "output_type": "execute_result"
    }
   ],
   "source": [
    "job.minute.every(1)"
   ]
  },
  {
   "cell_type": "code",
   "execution_count": 38,
   "metadata": {
    "collapsed": true
   },
   "outputs": [],
   "source": [
    "cron.write()"
   ]
  },
  {
   "cell_type": "code",
   "execution_count": 33,
   "metadata": {},
   "outputs": [
    {
     "data": {
      "text/plain": [
       "True"
      ]
     },
     "execution_count": 33,
     "metadata": {},
     "output_type": "execute_result"
    }
   ],
   "source": [
    "job.is_enabled()"
   ]
  },
  {
   "cell_type": "code",
   "execution_count": 32,
   "metadata": {},
   "outputs": [
    {
     "data": {
      "text/plain": [
       "True"
      ]
     },
     "execution_count": 32,
     "metadata": {},
     "output_type": "execute_result"
    }
   ],
   "source": [
    "job.is_valid()"
   ]
  },
  {
   "cell_type": "code",
   "execution_count": null,
   "metadata": {
    "collapsed": true
   },
   "outputs": [],
   "source": []
  }
 ],
 "metadata": {
  "kernelspec": {
   "display_name": "Python 3",
   "language": "python",
   "name": "python3"
  },
  "language_info": {
   "codemirror_mode": {
    "name": "ipython",
    "version": 3
   },
   "file_extension": ".py",
   "mimetype": "text/x-python",
   "name": "python",
   "nbconvert_exporter": "python",
   "pygments_lexer": "ipython3",
   "version": "3.6.3"
  }
 },
 "nbformat": 4,
 "nbformat_minor": 2
}
